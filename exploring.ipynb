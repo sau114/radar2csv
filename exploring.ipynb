{
 "cells": [
  {
   "cell_type": "code",
   "execution_count": 1,
   "id": "80a32325",
   "metadata": {},
   "outputs": [],
   "source": [
    "import configparser\n",
    "\n",
    "import pandas as pd"
   ]
  },
  {
   "cell_type": "markdown",
   "id": "8a6b384e",
   "metadata": {},
   "source": [
    "# Read ini"
   ]
  },
  {
   "cell_type": "code",
   "execution_count": 21,
   "id": "69486a27",
   "metadata": {},
   "outputs": [
    {
     "data": {
      "text/plain": [
       "[]"
      ]
     },
     "execution_count": 21,
     "metadata": {},
     "output_type": "execute_result"
    }
   ],
   "source": [
    "config = configparser.ConfigParser(\n",
    "    comment_prefixes=r'//',\n",
    "    interpolation=None,\n",
    ")\n",
    "config.sections()"
   ]
  },
  {
   "cell_type": "code",
   "execution_count": 24,
   "id": "b7dda26e",
   "metadata": {
    "scrolled": true
   },
   "outputs": [
    {
     "data": {
      "text/plain": [
       "['input\\\\KO1_8.ini']"
      ]
     },
     "execution_count": 24,
     "metadata": {},
     "output_type": "execute_result"
    }
   ],
   "source": [
    "config.read(r'input\\KO1_8.ini')"
   ]
  },
  {
   "cell_type": "code",
   "execution_count": 25,
   "id": "8e79ed57",
   "metadata": {
    "scrolled": true
   },
   "outputs": [
    {
     "data": {
      "text/plain": [
       "['Settings', 'NetBios', 'Selectors', 'Tags']"
      ]
     },
     "execution_count": 25,
     "metadata": {},
     "output_type": "execute_result"
    }
   ],
   "source": [
    "config.sections()"
   ]
  },
  {
   "cell_type": "code",
   "execution_count": 26,
   "id": "4c4e7fa2",
   "metadata": {},
   "outputs": [
    {
     "data": {
      "text/plain": [
       "<Section: NetBios>"
      ]
     },
     "execution_count": 26,
     "metadata": {},
     "output_type": "execute_result"
    }
   ],
   "source": [
    "config['NetBios']"
   ]
  },
  {
   "cell_type": "code",
   "execution_count": 12,
   "id": "338e2d22",
   "metadata": {
    "scrolled": true
   },
   "outputs": [
    {
     "name": "stdout",
     "output_type": "stream",
     "text": [
      "$0 R, ,,Чтение Inr1,   0,         &h40,  0\n",
      "$1 R, ,,Чтение Inr2,   0,         &h40,  1\n",
      "$25 W, ,,Упр. Алг.(25),    0,         &h00,  25\n",
      "$26 W, ,,Упр. Алг.(26),    0,         &h00,  26\n",
      "$27 W, ,,Упр. Алг.(27),    0,         &h00,  27\n",
      "$28 W, ,,Упр. Алг.(28),    0,         &h00,  28\n",
      "$29 W, ,,Упр. Алг.(29),    0,         &h00,  29\n",
      "$30 W, ,,Упр. Алг.(30),    0,         &h00,  30\n",
      "$31 W, ,,Упр. Алг.(31),    0,         &h00,  31\n",
      "$32 W, ,,Упр. Алг.(32),    0,         &h00,  32\n",
      "$33 W, ,,Упр. Алг.(33),    0,         &h00,  33\n",
      "$34 W, ,,Упр. Алг.(34),    0,         &h00,  34\n",
      "$35 W, ,,Упр. Алг.(35),    0,         &h00,  35\n",
      "$36 W, ,,Упр. Алг.(36),    0,         &h00,  36\n",
      "$37 W, ,,Упр. Алг.(37),    0,         &h00,  37\n",
      "$38 W, ,,Упр. Алг.(38),    0,         &h00,  38\n",
      "$39 W, ,,Упр. Алг.(39),    0,         &h00,  39\n",
      "$40 W, ,,Упр. Алг.(40),    0,         &h00,  40\n",
      "$41 W, ,,Упр. Алг.(41),    0,         &h00,  41\n",
      "$42 W, ,,Упр. Алг.(42),    0,         &h00,  42\n",
      "$43 W, ,,Упр. Алг.(43),    0,         &h00,  43\n",
      "$44 W, ,,Упр. Алг.(44),    0,         &h00,  44\n",
      "$45 W, ,,Упр. Алг.(45),    0,         &h00,  45\n",
      "$46 W, ,,Упр. Алг.(46),    0,         &h00,  46\n",
      "$47 W, ,,Упр. Алг.(47),    0,         &h00,  47\n",
      "$48 W, ,,Упр. Алг.(48),    0,         &h00,  48\n",
      "$49 W, ,,Упр. Алг.(49),    0,         &h00,  49\n",
      "$50 W, ,,Упр. Алг.(50),    0,         &h00,  50\n",
      "$51 W, ,,Упр. Алг.(51),    0,         &h00,  51\n",
      "$52 W, ,,Упр. Алг.(52),    0,         &h00,  52\n",
      "$53 W, ,,Упр. Алг.(53),    0,         &h00,  53\n",
      "$54 W, ,,Упр. Алг.(54),    0,         &h00,  54\n",
      "$55 W, ,,Упр. Алг.(55),    0,         &h00,  55\n",
      "$56 W, ,,Упр. Алг.(56),    0,         &h00,  56\n",
      "$57 W, ,,Упр. Алг.(57),    0,         &h00,  57\n",
      "$58 W, ,,Упр. Алг.(58),    0,         &h00,  58\n",
      "$59 W, ,,Упр. Алг.(59),    0,         &h00,  59\n",
      "$60 W, ,,Упр. Алг.(60),    0,         &h00,  60\n",
      "$61 W, ,,Упр. Алг.(61),    0,         &h00,  61\n",
      "$62 W, ,,Упр. Алг.(62),    0,         &h00,  62\n",
      "$63 W, ,,Упр. Алг.(63),    0,         &h00,  63\n",
      "$64 W, ,,Упр. Алг.(64),    0,         &h00,  64\n",
      "$65 W, ,,Упр. Алг.(65),    0,         &h00,  65\n",
      "$66 W, ,,Упр. Алг.(66),    0,         &h00,  66\n",
      "$67 W, ,,Упр. Алг.(67),    0,         &h00,  67\n",
      "$68 W, ,,Упр. Алг.(68),    0,         &h00,  68\n",
      "$69 W, ,,Упр. Алг.(69),    0,         &h00,  69\n",
      "$70 W, ,,Упр. Алг.(70),    0,         &h00,  70\n",
      "$71 W, ,,Упр. Алг.(71),    0,         &h00,  71\n",
      "$72 W, ,,Упр. Алг.(72),    0,         &h00,  72\n",
      "$74 W, ,,Упр. Алг.(74),    0,         &h00,  74\n",
      "$75 W, ,,Упр. Алг.(75),    0,         &h00,  75\n",
      "$76 W, ,,Упр. Алг.(76),    0,         &h00,  76\n"
     ]
    }
   ],
   "source": [
    "for key in config['NetBios']:\n",
    "    print(key, config['NetBios'][key])"
   ]
  },
  {
   "cell_type": "code",
   "execution_count": 5,
   "id": "3416edd1",
   "metadata": {
    "scrolled": true
   },
   "outputs": [
    {
     "name": "stdout",
     "output_type": "stream",
     "text": [
      "tag1 RPV,KO,Single, Уровень РПВ,      $0, 224, 6,0,,,,,-1,500,0\n",
      "tag2 RZ,KO,Byte, Задвижка РПВ,     $1, 51,,,vlv1, $74, 8,,,,,,Single\n",
      "tag3 Motor,KO.RZ,Long, Привод,     $1, 224,,,m_vlv3, $76, 1,,,,,,Single\n",
      "tag4 Pos,KO.RZ,Single, Положение %,$0, 36,,,,,,,-1,100\n",
      "tag5 C1-8,KO,Byte, Секущая КО1-8,  $1, 51,,,vlv2, $75, 8,,,,,,Single\n",
      "tag6 Motor,KO.C1-8,Long, Привод,   $1, 228,,,m_vlv3, $76, 1,,,,,,Single\n",
      "tag7 U1,KO.Energy,Single, напряжение на секции 1,   $0, 40, 0.004,0,,,,,0,0.4,0\n",
      "tag8 US1,KO.Energy,Boolean,Питание секции 1,        $1, 25,,,&h01\n",
      "tag9 US2,KO.Energy,Boolean,Питание секции 2,        $1, 25,,,&h02\n",
      "tag10 SEC,KO.Energy,Boolean,секционное включение,   $1, 25,,,&h04\n",
      "tag11 L_Max,KO.KO1,Boolean,Перелив,      $1, 24,,,&h01\n",
      "tag12 E1,KO.KO1,Single, код Расход,      $0, 0\n",
      "tag13 L,KO.KO1,Single, Уровень,          $0, 160, 5,0,,,,,-1,500,0\n",
      "tag14 Z1,KO.KO1,Byte, Задвижка Z1,       $1, 0,,,vlv1, $25, 8,,,,,,Single\n",
      "tag15 Motor,KO.KO1.Z1,Long, Привод,      $1, 64,,,m_vlv3, $35, 1,,,,,,Single\n",
      "tag16 Pos,KO.KO1.Z1,Single, Положение %, $0, 64,,,,,,,-1,100\n",
      "tag17 Z2,KO.KO1,Byte, Задвижка Z2,       $1, 0,,,vlv2, $26, 8,,,,,,Single\n",
      "tag18 Motor,KO.KO1.Z2,Long, Привод,      $1, 68,,,m_vlv3, $35, 1,,,,,,Single\n",
      "tag19 Z3,KO.KO1,Byte, Задвижка Z3,       $1, 2,,,vlv1, $27, 8,,,,,,Single\n",
      "tag20 Motor,KO.KO1.Z3,Long, Привод,      $1, 72,,,m_vlv3, $35, 1,,,,,,Single\n",
      "tag21 Z4,KO.KO1,Byte, Задвижка Z4,       $1, 2,,,vlv2, $28, 8,,,,,,Single\n",
      "tag22 Motor,KO.KO1.Z4,Long, Привод,      $1, 76,,,m_vlv3, $35, 1,,,,,,Single\n",
      "tag23 Pos,KO.KO1.Z4,Single, Положение %, $0, 68,,,,,,,-1,100\n",
      "tag24 Z5,KO.KO1,Byte, Задвижка Z5,       $1, 8,,,vlv1, $29, 8,,,,,,Single\n",
      "tag25 Motor,KO.KO1.Z5,Long, Привод,      $1, 80,,,m_vlv3, $35, 1,,,,,,Single\n",
      "tag26 Pos,KO.KO1.Z5,Single, Положение %, $0, 72,,,,,,,-1,100\n",
      "tag27 L_Max,KO.KO2,Boolean,Перелив,      $1, 24,,,&h02\n",
      "tag28 E1,KO.KO2,Single, код Расход,      $0, 4\n",
      "tag29 L,KO.KO2,Single, Уровень,          $0, 164, 5,0,,,,,-1,500,0\n",
      "tag30 Z1,KO.KO2,Byte, Задвижка Z1,       $1, 16,,,vlv1, $30, 8,,,,,,Single\n",
      "tag31 Motor,KO.KO2.Z1,Long, Привод,      $1, 84,,,m_vlv3, $36, 1,,,,,,Single\n",
      "tag32 Pos,KO.KO2.Z1,Single, Положение %, $0, 76,,,,,,,-1,100\n",
      "tag33 Z2,KO.KO2,Byte, Задвижка Z2,       $1, 16,,,vlv2, $31, 8,,,,,,Single\n",
      "tag34 Motor,KO.KO2.Z2,Long, Привод,      $1, 88,,,m_vlv3, $36, 1,,,,,,Single\n",
      "tag35 Z3,KO.KO2,Byte, Задвижка Z3,       $1, 10,,,vlv1, $32, 8,,,,,,Single\n",
      "tag36 Motor,KO.KO2.Z3,Long, Привод,      $1, 92,,,m_vlv3, $36, 1,,,,,,Single\n",
      "tag37 Z4,KO.KO2,Byte, Задвижка Z4,       $1, 10,,,vlv2, $33, 8,,,,,,Single\n",
      "tag38 Motor,KO.KO2.Z4,Long, Привод,      $1, 96,,,m_vlv3, $36, 1,,,,,,Single\n",
      "tag39 Pos,KO.KO2.Z4,Single, Положение %, $0, 80,,,,,,,-1,100\n",
      "tag40 Z5,KO.KO2,Byte, Задвижка Z5,       $1, 8,,,vlv2, $34, 8,,,,,,Single\n",
      "tag41 Motor,KO.KO2.Z5,Long, Привод,      $1, 100,,,m_vlv3, $36, 1,,,,,,Single\n",
      "tag42 Pos,KO.KO2.Z5,Single, Положение %, $0, 84,,,,,,,-1,100\n",
      "tag43 L_Max,KO.KO3,Boolean,Перелив,      $1, 24,,,&h04\n",
      "tag44 E1,KO.KO3,Single, код Расход,      $0, 8\n",
      "tag45 L,KO.KO3,Single, Уровень,          $0, 168, 5,0,,,,,-1,500,0\n",
      "tag46 Z1,KO.KO3,Byte, Задвижка Z1,       $1, 1,,,vlv1, $37, 8,,,,,,Single\n",
      "tag47 Motor,KO.KO3.Z1,Long, Привод,      $1, 104,,,m_vlv3, $47, 1,,,,,,Single\n",
      "tag48 Pos,KO.KO3.Z1,Single, Положение %, $0, 88,,,,,,,-1,100\n",
      "tag49 Z2,KO.KO3,Byte, Задвижка Z2,       $1, 1,,,vlv2, $38, 8,,,,,,Single\n",
      "tag50 Motor,KO.KO3.Z2,Long, Привод,      $1, 108,,,m_vlv3, $47, 1,,,,,,Single\n",
      "tag51 Z3,KO.KO3,Byte, Задвижка Z3,       $1, 3,,,vlv1, $39, 8,,,,,,Single\n",
      "tag52 Motor,KO.KO3.Z3,Long, Привод,      $1, 112,,,m_vlv3, $47, 1,,,,,,Single\n",
      "tag53 Z4,KO.KO3,Byte, Задвижка Z4,       $1, 3,,,vlv2, $40, 8,,,,,,Single\n",
      "tag54 Motor,KO.KO3.Z4,Long, Привод,      $1, 116,,,m_vlv3, $47, 1,,,,,,Single\n",
      "tag55 Pos,KO.KO3.Z4,Single, Положение %, $0, 92,,,,,,,-1,100\n",
      "tag56 Z5,KO.KO3,Byte, Задвижка Z5,       $1, 9,,,vlv1, $41, 8,,,,,,Single\n",
      "tag57 Motor,KO.KO3.Z5,Long, Привод,      $1, 120,,,m_vlv3, $47, 1,,,,,,Single\n",
      "tag58 Pos,KO.KO3.Z5,Single, Положение %, $0, 96,,,,,,,-1,100\n",
      "tag59 L_Max,KO.KO4,Boolean,Перелив,      $1, 24,,,&h08\n",
      "tag60 E1,KO.KO4,Single, код Расход,      $0, 12\n",
      "tag61 L,KO.KO4,Single, Уровень,          $0, 172, 5,0,,,,,-1,500,0\n",
      "tag62 Z1,KO.KO4,Byte, Задвижка Z1,       $1, 17,,,vlv1, $42, 8,,,,,,Single\n",
      "tag63 Motor,KO.KO4.Z1,Long, Привод,      $1, 124,,,m_vlv3, $48, 1,,,,,,Single\n",
      "tag64 Pos,KO.KO4.Z1,Single, Положение %, $0, 100,,,,,,,-1,100\n",
      "tag65 Z2,KO.KO4,Byte, Задвижка Z2,       $1, 17,,,vlv2, $43, 8,,,,,,Single\n",
      "tag66 Motor,KO.KO4.Z2,Long, Привод,      $1, 128,,,m_vlv3, $48, 1,,,,,,Single\n",
      "tag67 Z3,KO.KO4,Byte, Задвижка Z3,       $1, 11,,,vlv1, $44, 8,,,,,,Single\n",
      "tag68 Motor,KO.KO4.Z3,Long, Привод,      $1, 132,,,m_vlv3, $48, 1,,,,,,Single\n",
      "tag69 Z4,KO.KO4,Byte, Задвижка Z4,       $1, 11,,,vlv2, $45, 8,,,,,,Single\n",
      "tag70 Motor,KO.KO4.Z4,Long, Привод,      $1, 136,,,m_vlv3, $48, 1,,,,,,Single\n",
      "tag71 Pos,KO.KO4.Z4,Single, Положение %, $0, 104,,,,,,,-1,100\n",
      "tag72 Z5,KO.KO4,Byte, Задвижка Z5,       $1, 9,,,vlv2, $46, 8,,,,,,Single\n",
      "tag73 Motor,KO.KO4.Z5,Long, Привод,      $1, 140,,,m_vlv3, $48, 1,,,,,,Single\n",
      "tag74 Pos,KO.KO4.Z5,Single, Положение %, $0, 108,,,,,,,-1,100\n",
      "tag75 L_Max,KO.KO5,Boolean,Перелив,      $1, 24,,,&h10\n",
      "tag76 E1,KO.KO5,Single, код Расход,      $0, 16\n",
      "tag77 L,KO.KO5,Single, Уровень,          $0, 176, 5,0,,,,,-1,500,0\n",
      "tag78 Z1,KO.KO5,Byte, Задвижка Z1,       $1, 32,,,vlv1, $49, 8,,,,,,Single\n",
      "tag79 Motor,KO.KO5.Z1,Long, Привод,      $1, 144,,,m_vlv3, $59, 1,,,,,,Single\n",
      "tag80 Pos,KO.KO5.Z1,Single, Положение %, $0, 112,,,,,,,-1,100\n",
      "tag81 Z2,KO.KO5,Byte, Задвижка Z2,       $1, 32,,,vlv2, $50, 8,,,,,,Single\n",
      "tag82 Motor,KO.KO5.Z2,Long, Привод,      $1, 148,,,m_vlv3, $59, 1,,,,,,Single\n",
      "tag83 Z3,KO.KO5,Byte, Задвижка Z3,       $1, 34,,,vlv1, $51, 8,,,,,,Single\n",
      "tag84 Motor,KO.KO5.Z3,Long, Привод,      $1, 152,,,m_vlv3, $59, 1,,,,,,Single\n",
      "tag85 Z4,KO.KO5,Byte, Задвижка Z4,       $1, 34,,,vlv2, $52, 8,,,,,,Single\n",
      "tag86 Motor,KO.KO5.Z4,Long, Привод,      $1, 156,,,m_vlv3, $59, 1,,,,,,Single\n",
      "tag87 Pos,KO.KO5.Z4,Single, Положение %, $0, 116,,,,,,,-1,100\n",
      "tag88 Z5,KO.KO5,Byte, Задвижка Z5,       $1, 40,,,vlv1, $53, 8,,,,,,Single\n",
      "tag89 Motor,KO.KO5.Z5,Long, Привод,      $1, 160,,,m_vlv3, $59, 1,,,,,,Single\n",
      "tag90 Pos,KO.KO5.Z5,Single, Положение %, $0, 120,,,,,,,-1,100\n",
      "tag91 L_Max,KO.KO6,Boolean,Перелив,      $1, 24,,,&h20\n",
      "tag92 E1,KO.KO6,Single, код Расход,      $0, 20\n",
      "tag93 L,KO.KO6,Single, Уровень,          $0, 180, 5,0,,,,,-1,500,0\n",
      "tag94 Z1,KO.KO6,Byte, Задвижка Z1,       $1, 48,,,vlv1, $54, 8,,,,,,Single\n",
      "tag95 Motor,KO.KO6.Z1,Long, Привод,      $1, 164,,,m_vlv3, $60, 1,,,,,,Single\n",
      "tag96 Pos,KO.KO6.Z1,Single, Положение %, $0, 124,,,,,,,-1,100\n",
      "tag97 Z2,KO.KO6,Byte, Задвижка Z2,       $1, 48,,,vlv2, $55, 8,,,,,,Single\n",
      "tag98 Motor,KO.KO6.Z2,Long, Привод,      $1, 168,,,m_vlv3, $60, 1,,,,,,Single\n",
      "tag99 Z3,KO.KO6,Byte, Задвижка Z3,       $1, 42,,,vlv1, $56, 8,,,,,,Single\n",
      "tag100 Motor,KO.KO6.Z3,Long, Привод,      $1, 172,,,m_vlv3, $60, 1,,,,,,Single\n",
      "tag101 Z4,KO.KO6,Byte, Задвижка Z4,       $1, 42,,,vlv2, $57, 8,,,,,,Single\n",
      "tag102 Motor,KO.KO6.Z4,Long, Привод,      $1, 176,,,m_vlv3, $60, 1,,,,,,Single\n",
      "tag103 Pos,KO.KO6.Z4,Single, Положение %, $0, 128,,,,,,,-1,100\n",
      "tag104 Z5,KO.KO6,Byte, Задвижка Z5,       $1, 40,,,vlv2, $58, 8,,,,,,Single\n",
      "tag105 Motor,KO.KO6.Z5,Long, Привод,      $1, 180,,,m_vlv3, $60, 1,,,,,,Single\n",
      "tag106 Pos,KO.KO6.Z5,Single, Положение %, $0, 132,,,,,,,-1,100\n",
      "tag107 L_Max,KO.KO7,Boolean,Перелив,      $1, 24,,,&h40\n",
      "tag108 E1,KO.KO7,Single, код Расход,      $0, 24\n",
      "tag109 L,KO.KO7,Single, Уровень,          $0, 184, 5,0,,,,,-1,500,0\n",
      "tag110 Z1,KO.KO7,Byte, Задвижка Z1,       $1, 33,,,vlv1, $61, 8,,,,,,Single\n",
      "tag111 Motor,KO.KO7.Z1,Long, Привод,      $1, 184,,,m_vlv3, $66, 1,,,,,,Single\n",
      "tag112 Pos,KO.KO7.Z1,Single, Положение %, $0, 136,,,,,,,-1,100\n",
      "tag113 Z2,KO.KO7,Byte, Задвижка Z2,       $1, 33,,,vlv2, $62, 8,,,,,,Single\n",
      "tag114 Motor,KO.KO7.Z2,Long, Привод,      $1, 188,,,m_vlv3, $66, 1,,,,,,Single\n",
      "tag115 Z3,KO.KO7,Byte, Задвижка Z3,       $1, 35,,,vlv1, $63, 8,,,,,,Single\n",
      "tag116 Motor,KO.KO7.Z3,Long, Привод,      $1, 192,,,m_vlv3, $66, 1,,,,,,Single\n",
      "tag117 Z4,KO.KO7,Byte, Задвижка Z4,       $1, 35,,,vlv2, $64, 8,,,,,,Single\n",
      "tag118 Motor,KO.KO7.Z4,Long, Привод,      $1, 196,,,m_vlv3, $66, 1,,,,,,Single\n",
      "tag119 Pos,KO.KO7.Z4,Single, Положение %, $0, 140,,,,,,,-1,100\n",
      "tag120 Z5,KO.KO7,Byte, Задвижка Z5,       $1, 41,,,vlv1, $65, 8,,,,,,Single\n",
      "tag121 Motor,KO.KO7.Z5,Long, Привод,      $1, 200,,,m_vlv3, $66, 1,,,,,,Single\n",
      "tag122 Pos,KO.KO7.Z5,Single, Положение %, $0, 144,,,,,,,-1,100\n",
      "tag123 L_Max,KO.KO8,Boolean,Перелив,      $1, 24,,,&h80\n",
      "tag124 E1,KO.KO8,Single, код Расход,      $0, 28\n",
      "tag125 L,KO.KO8,Single, Уровень,          $0, 188, 5,0,,,,,-1,500,0\n",
      "tag126 Z1,KO.KO8,Byte, Задвижка Z1,       $1, 49,,,vlv1, $67, 8,,,,,,Single\n",
      "tag127 Motor,KO.KO8.Z1,Long, Привод,      $1, 204,,,m_vlv3, $72, 1,,,,,,Single\n",
      "tag128 Pos,KO.KO8.Z1,Single, Положение %, $0, 148,,,,,,,-1,100\n",
      "tag129 Z2,KO.KO8,Byte, Задвижка Z2,       $1, 49,,,vlv2, $68, 8,,,,,,Single\n",
      "tag130 Motor,KO.KO8.Z2,Long, Привод,      $1, 208,,,m_vlv3, $72, 1,,,,,,Single\n",
      "tag131 Z3,KO.KO8,Byte, Задвижка Z3,       $1, 43,,,vlv1, $69, 8,,,,,,Single\n",
      "tag132 Motor,KO.KO8.Z3,Long, Привод,      $1, 212,,,m_vlv3, $72, 1,,,,,,Single\n",
      "tag133 Z4,KO.KO8,Byte, Задвижка Z4,       $1, 43,,,vlv2, $70, 8,,,,,,Single\n",
      "tag134 Motor,KO.KO8.Z4,Long, Привод,      $1, 216,,,m_vlv3, $72, 1,,,,,,Single\n",
      "tag135 Pos,KO.KO8.Z4,Single, Положение %, $0, 152,,,,,,,-1,100\n",
      "tag136 Z5,KO.KO8,Byte, Задвижка Z5,       $1, 41,,,vlv2, $71, 8,,,,,,Single\n",
      "tag137 Motor,KO.KO8.Z5,Long, Привод,      $1, 220,,,m_vlv3, $72, 1,,,,,,Single\n",
      "tag138 Pos,KO.KO8.Z5,Single, Положение %, $0, 156,,,,,,,-1,100\n"
     ]
    }
   ],
   "source": [
    "for key in config['Tags']:\n",
    "    print(key, config['Tags'][key])"
   ]
  },
  {
   "cell_type": "code",
   "execution_count": 11,
   "id": "0856eb4f",
   "metadata": {},
   "outputs": [
    {
     "data": {
      "text/plain": [
       "14"
      ]
     },
     "execution_count": 11,
     "metadata": {},
     "output_type": "execute_result"
    }
   ],
   "source": [
    "len(config['Tags']['tag4'].split(','))"
   ]
  },
  {
   "cell_type": "code",
   "execution_count": 20,
   "id": "133fedcb",
   "metadata": {},
   "outputs": [
    {
     "data": {
      "text/plain": [
       "17"
      ]
     },
     "execution_count": 20,
     "metadata": {},
     "output_type": "execute_result"
    }
   ],
   "source": [
    "len(config['Tags']['tag20'].split(','))"
   ]
  },
  {
   "cell_type": "markdown",
   "id": "f766a30f",
   "metadata": {},
   "source": [
    "# Read csv"
   ]
  },
  {
   "cell_type": "code",
   "execution_count": 15,
   "id": "5f11e5ed",
   "metadata": {},
   "outputs": [],
   "source": [
    "csv = pd.read_csv(\n",
    "    'ko1.csv',\n",
    "    sep=';',\n",
    "    header=None,\n",
    ")"
   ]
  },
  {
   "cell_type": "code",
   "execution_count": 19,
   "id": "ceb4c9a9",
   "metadata": {},
   "outputs": [
    {
     "data": {
      "text/html": [
       "<div>\n",
       "<style scoped>\n",
       "    .dataframe tbody tr th:only-of-type {\n",
       "        vertical-align: middle;\n",
       "    }\n",
       "\n",
       "    .dataframe tbody tr th {\n",
       "        vertical-align: top;\n",
       "    }\n",
       "\n",
       "    .dataframe thead th {\n",
       "        text-align: right;\n",
       "    }\n",
       "</style>\n",
       "<table border=\"1\" class=\"dataframe\">\n",
       "  <thead>\n",
       "    <tr style=\"text-align: right;\">\n",
       "      <th></th>\n",
       "      <th>2</th>\n",
       "      <th>3</th>\n",
       "      <th>4</th>\n",
       "      <th>5</th>\n",
       "      <th>6</th>\n",
       "      <th>7</th>\n",
       "      <th>8</th>\n",
       "      <th>11</th>\n",
       "    </tr>\n",
       "  </thead>\n",
       "  <tbody>\n",
       "    <tr>\n",
       "      <th>0</th>\n",
       "      <td>15 - (7 - ИНР) - 1 ( X.1 )</td>\n",
       "      <td>ВЩ</td>\n",
       "      <td>F</td>\n",
       "      <td>1</td>\n",
       "      <td>1</td>\n",
       "      <td>NaN</td>\n",
       "      <td></td>\n",
       "      <td></td>\n",
       "    </tr>\n",
       "    <tr>\n",
       "      <th>1</th>\n",
       "      <td>15 - (7 - ИНР) - 2 ( X.2 )</td>\n",
       "      <td>ВЩ</td>\n",
       "      <td>F</td>\n",
       "      <td>1</td>\n",
       "      <td>2</td>\n",
       "      <td>NaN</td>\n",
       "      <td></td>\n",
       "      <td></td>\n",
       "    </tr>\n",
       "    <tr>\n",
       "      <th>2</th>\n",
       "      <td>15 - (7 - ИНР) - 3 ( X.3 )</td>\n",
       "      <td>ВЩ</td>\n",
       "      <td>F</td>\n",
       "      <td>1</td>\n",
       "      <td>3</td>\n",
       "      <td>NaN</td>\n",
       "      <td></td>\n",
       "      <td></td>\n",
       "    </tr>\n",
       "    <tr>\n",
       "      <th>3</th>\n",
       "      <td>15 - (7 - ИНР) - 4 ( X.4 )</td>\n",
       "      <td>ВЩ</td>\n",
       "      <td>F</td>\n",
       "      <td>1</td>\n",
       "      <td>4</td>\n",
       "      <td>NaN</td>\n",
       "      <td></td>\n",
       "      <td></td>\n",
       "    </tr>\n",
       "    <tr>\n",
       "      <th>4</th>\n",
       "      <td>15 - (7 - ИНР) - 5 ( X.5 )</td>\n",
       "      <td>ВЩ</td>\n",
       "      <td>F</td>\n",
       "      <td>1</td>\n",
       "      <td>5</td>\n",
       "      <td>NaN</td>\n",
       "      <td></td>\n",
       "      <td></td>\n",
       "    </tr>\n",
       "    <tr>\n",
       "      <th>...</th>\n",
       "      <td>...</td>\n",
       "      <td>...</td>\n",
       "      <td>...</td>\n",
       "      <td>...</td>\n",
       "      <td>...</td>\n",
       "      <td>...</td>\n",
       "      <td>...</td>\n",
       "      <td>...</td>\n",
       "    </tr>\n",
       "    <tr>\n",
       "      <th>159</th>\n",
       "      <td>73 - (109 - ШЦС) - 80 ( N2.40 )</td>\n",
       "      <td>УЦС</td>\n",
       "      <td>F</td>\n",
       "      <td>2</td>\n",
       "      <td>56</td>\n",
       "      <td>2.0</td>\n",
       "      <td></td>\n",
       "      <td></td>\n",
       "    </tr>\n",
       "    <tr>\n",
       "      <th>160</th>\n",
       "      <td>73 - (109 - ШЦС) - 81 ( N1.41 )</td>\n",
       "      <td>УЦС</td>\n",
       "      <td>F</td>\n",
       "      <td>2</td>\n",
       "      <td>57</td>\n",
       "      <td>1.0</td>\n",
       "      <td></td>\n",
       "      <td></td>\n",
       "    </tr>\n",
       "    <tr>\n",
       "      <th>161</th>\n",
       "      <td>73 - (109 - ШЦС) - 82 ( N2.41 )</td>\n",
       "      <td>УЦС</td>\n",
       "      <td>F</td>\n",
       "      <td>2</td>\n",
       "      <td>57</td>\n",
       "      <td>2.0</td>\n",
       "      <td></td>\n",
       "      <td></td>\n",
       "    </tr>\n",
       "    <tr>\n",
       "      <th>162</th>\n",
       "      <td>73 - (109 - ШЦС) - 83 ( N1.42 )</td>\n",
       "      <td>УЦС</td>\n",
       "      <td>F</td>\n",
       "      <td>2</td>\n",
       "      <td>58</td>\n",
       "      <td>1.0</td>\n",
       "      <td></td>\n",
       "      <td></td>\n",
       "    </tr>\n",
       "    <tr>\n",
       "      <th>163</th>\n",
       "      <td>73 - (109 - ШЦС) - 84 ( N2.42 )</td>\n",
       "      <td>УЦС</td>\n",
       "      <td>F</td>\n",
       "      <td>2</td>\n",
       "      <td>58</td>\n",
       "      <td>2.0</td>\n",
       "      <td></td>\n",
       "      <td></td>\n",
       "    </tr>\n",
       "  </tbody>\n",
       "</table>\n",
       "<p>164 rows × 8 columns</p>\n",
       "</div>"
      ],
      "text/plain": [
       "                                  2    3  4   5   6    7  8  11\n",
       "0         15 - (7 - ИНР) - 1 ( X.1 )   ВЩ  F   1   1  NaN      \n",
       "1         15 - (7 - ИНР) - 2 ( X.2 )   ВЩ  F   1   2  NaN      \n",
       "2         15 - (7 - ИНР) - 3 ( X.3 )   ВЩ  F   1   3  NaN      \n",
       "3         15 - (7 - ИНР) - 4 ( X.4 )   ВЩ  F   1   4  NaN      \n",
       "4         15 - (7 - ИНР) - 5 ( X.5 )   ВЩ  F   1   5  NaN      \n",
       "..                               ...  ... ..  ..  ..  ... .. ..\n",
       "159  73 - (109 - ШЦС) - 80 ( N2.40 )  УЦС  F   2  56  2.0      \n",
       "160  73 - (109 - ШЦС) - 81 ( N1.41 )  УЦС  F   2  57  1.0      \n",
       "161  73 - (109 - ШЦС) - 82 ( N2.41 )  УЦС  F   2  57  2.0      \n",
       "162  73 - (109 - ШЦС) - 83 ( N1.42 )  УЦС  F   2  58  1.0      \n",
       "163  73 - (109 - ШЦС) - 84 ( N2.42 )  УЦС  F   2  58  2.0      \n",
       "\n",
       "[164 rows x 8 columns]"
      ]
     },
     "execution_count": 19,
     "metadata": {},
     "output_type": "execute_result"
    }
   ],
   "source": [
    "csv.dropna(axis='columns', how='all')"
   ]
  },
  {
   "cell_type": "code",
   "execution_count": null,
   "id": "0ec823d0",
   "metadata": {},
   "outputs": [],
   "source": []
  }
 ],
 "metadata": {
  "kernelspec": {
   "display_name": "Python 3 (ipykernel)",
   "language": "python",
   "name": "python3"
  },
  "language_info": {
   "codemirror_mode": {
    "name": "ipython",
    "version": 3
   },
   "file_extension": ".py",
   "mimetype": "text/x-python",
   "name": "python",
   "nbconvert_exporter": "python",
   "pygments_lexer": "ipython3",
   "version": "3.9.13"
  }
 },
 "nbformat": 4,
 "nbformat_minor": 5
}
