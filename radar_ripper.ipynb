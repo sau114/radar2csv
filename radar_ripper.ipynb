{
 "cells": [
  {
   "cell_type": "markdown",
   "id": "e6e0e8e6",
   "metadata": {},
   "source": [
    "Utility is converting ini-files for RADAR SCADA to I/O-table"
   ]
  },
  {
   "cell_type": "code",
   "execution_count": 1,
   "id": "80a77805",
   "metadata": {},
   "outputs": [],
   "source": [
    "import configparser\n",
    "import os\n",
    "import os.path"
   ]
  },
  {
   "cell_type": "code",
   "execution_count": 2,
   "id": "73c820ab",
   "metadata": {},
   "outputs": [],
   "source": [
    "import pandas as pd"
   ]
  },
  {
   "cell_type": "markdown",
   "id": "b14594de",
   "metadata": {},
   "source": [
    "# Parse ini-file"
   ]
  },
  {
   "cell_type": "code",
   "execution_count": 3,
   "id": "abd8e3fb",
   "metadata": {},
   "outputs": [],
   "source": [
    "def get_all_keys(section) -> list:\n",
    "    return [k for k in section]"
   ]
  },
  {
   "cell_type": "code",
   "execution_count": 4,
   "id": "5fb10942",
   "metadata": {},
   "outputs": [],
   "source": [
    "# Name = Type(R/W), [LinkFlag], [LinkMask], Descr, Period(s), Func, [Param1, Param2, ...]\n",
    "NETBIOS_COLUMNS = (\n",
    "    'type',\n",
    "    'link_flag',\n",
    "    'link_mask',\n",
    "    'description',\n",
    "    'period_sec',\n",
    "    'function',\n",
    "    'params',\n",
    ")\n",
    "NETBIOS_FUNCTION = (\n",
    "    '&h40', # чтение ИНР\n",
    "    '&h00', # Астановка входа Алгоблока\n",
    "    '&h10', # чтение архива\n",
    "    '&h11', # чтение часов\n",
    "    '&h12', # установка часов\n",
    "    '&h1A', # скорее всего запись ДКМ\n",
    ")"
   ]
  },
  {
   "cell_type": "code",
   "execution_count": 5,
   "id": "32cf17e2",
   "metadata": {},
   "outputs": [],
   "source": [
    "# %key%=(Mask1,Value1), (Mask2, Value2)\n",
    "SELECTORS_COLUMNS = (\n",
    "    'mask_value',\n",
    ")"
   ]
  },
  {
   "cell_type": "code",
   "execution_count": 6,
   "id": "f4c6c09f",
   "metadata": {},
   "outputs": [],
   "source": [
    "# %key%=(TagName),[Parent],(Type),Description,InBuffer,InBufferOffset,[k,b],[Selector/BoolMask/NullZone], \\\n",
    "# [OutBuffer, OutBufferOffset],[Default],[DefaultMin],[DefaultMax],[Hysteresis],[InType],[OutType],[LinkFlag],[LinkMask]\n",
    "TAGS_COLUMNS = (\n",
    "    'tag_name',\n",
    "    'tag_parent',\n",
    "    'type',\n",
    "    'description',\n",
    "    'in_buffer',\n",
    "    'in_buffer_offset',\n",
    "    'k',  # slope\n",
    "    'b',  # intercept\n",
    "    'selector_mask_nzone',\n",
    "    'out_buffer',\n",
    "    'out_buffer_offset',\n",
    "    'default',\n",
    "    'default_min',\n",
    "    'default_max',\n",
    "    'hyst',\n",
    "    'in_type',\n",
    "    'out_type',\n",
    "    'link_flag',\n",
    "    'link_mask',\n",
    ")"
   ]
  },
  {
   "cell_type": "code",
   "execution_count": 7,
   "id": "08b3bbe8",
   "metadata": {},
   "outputs": [],
   "source": [
    "OUTPUT_COLUMNS = (\n",
    "    'tag_full_name',\n",
    "    'description',\n",
    "    'data_type',\n",
    "    'direction',\n",
    "    'algoblock_type',\n",
    "    'algoblock_address',\n",
    "    'algoblock_offset',\n",
    "    'selector_mask_nzone',\n",
    ")"
   ]
  },
  {
   "cell_type": "markdown",
   "id": "cf81b328",
   "metadata": {},
   "source": [
    "## Read NetBios section"
   ]
  },
  {
   "cell_type": "code",
   "execution_count": 8,
   "id": "15fc0797",
   "metadata": {},
   "outputs": [],
   "source": [
    "def parse_section_netbios(section) -> pd.DataFrame:\n",
    "    netbios_data = pd.DataFrame(\n",
    "        index=get_all_keys(section),\n",
    "        columns=NETBIOS_COLUMNS,\n",
    "    )\n",
    "    for k in netbios_data.index:\n",
    "        values = section[k].split(',')\n",
    "        for i in range(min(len(NETBIOS_COLUMNS), len(values))):\n",
    "            netbios_data.loc[k, NETBIOS_COLUMNS[i]] = values[i].strip()\n",
    "        if len(values) > len(NETBIOS_COLUMNS):\n",
    "            netbios_data.loc[k, NETBIOS_COLUMNS[-1]] = ','.join(values[len(NETBIOS_COLUMNS):])\n",
    "    # I suppose &h00 used for internal variables and we don't need this\n",
    "    # always we don't archive and time functions\n",
    "    return netbios_data.query('function in (\"&h40\", \"&h1A\")').fillna('')"
   ]
  },
  {
   "cell_type": "markdown",
   "id": "82b59917",
   "metadata": {},
   "source": [
    "## Read Selectors section"
   ]
  },
  {
   "cell_type": "code",
   "execution_count": 9,
   "id": "de26150d",
   "metadata": {},
   "outputs": [],
   "source": [
    "def parse_section_selectors(section) -> pd.DataFrame:\n",
    "    selectors_data = pd.DataFrame(\n",
    "        index=get_all_keys(section),\n",
    "        columns=SELECTORS_COLUMNS,\n",
    "    )\n",
    "    for k in selectors_data.index:\n",
    "        selectors_data.loc[k, SELECTORS_COLUMNS[0]] = section[k].strip()\n",
    "    return selectors_data.fillna('')"
   ]
  },
  {
   "cell_type": "markdown",
   "id": "fc0ad177",
   "metadata": {},
   "source": [
    "## Read Tags section"
   ]
  },
  {
   "cell_type": "code",
   "execution_count": 10,
   "id": "2fe8b6be",
   "metadata": {},
   "outputs": [],
   "source": [
    "def parse_section_tags(section) -> pd.DataFrame:\n",
    "    tags_data = pd.DataFrame(\n",
    "        index=get_all_keys(section),\n",
    "        columns=TAGS_COLUMNS,\n",
    "    )\n",
    "    for k in tags_data.index:\n",
    "        values = section[k].split(',')\n",
    "        for i in range(min(len(TAGS_COLUMNS), len(values))):\n",
    "            tags_data.loc[k, TAGS_COLUMNS[i]] = values[i].strip()\n",
    "        if len(values) > len(TAGS_COLUMNS):\n",
    "            tags_data.loc[k, TAGS_COLUMNS[-1]] = ','.join(values[len(TAGS_COLUMNS):])\n",
    "    return tags_data.fillna('')"
   ]
  },
  {
   "cell_type": "markdown",
   "id": "4e4a8a15",
   "metadata": {},
   "source": [
    "## Do output table"
   ]
  },
  {
   "cell_type": "code",
   "execution_count": 11,
   "id": "162ffa8d",
   "metadata": {},
   "outputs": [],
   "source": [
    "def compute_modbus_address(block_type, block_number, var_offset) -> int:\n",
    "    if block_type not in ('ИНР', 'ДКМ'):\n",
    "        return -1\n",
    "    if block_type == 'ИНР':\n",
    "        if 0 <= int(block_number) <= 7:\n",
    "            base_addr = 0\n",
    "            block_nr = int(block_number)\n",
    "        elif 8 <= int(block_number) <= 15:\n",
    "            base_addr = 32_768\n",
    "            block_nr = int(block_number)-8\n",
    "        elif 16 <= int(block_number) <= 23:\n",
    "            base_addr = 34_816\n",
    "            block_nr = int(block_number)-16\n",
    "        else:\n",
    "            return -1\n",
    "        return base_addr + block_nr * 256 + int(var_offset)\n",
    "    # ДКМ записывается по номеру блока и выходу\n",
    "    return -1"
   ]
  },
  {
   "cell_type": "code",
   "execution_count": 12,
   "id": "363fb98a",
   "metadata": {},
   "outputs": [],
   "source": [
    "def gen_output_table(buffers: pd.DataFrame, selectors: pd.DataFrame, tags: pd.DataFrame) -> pd.DataFrame:\n",
    "    # at first for reading tags\n",
    "    sorted_tags = tags.copy()\n",
    "    sorted_tags['in_buffer_offset'] = pd.to_numeric(sorted_tags['in_buffer_offset'])\n",
    "    sorted_tags = sorted_tags.sort_values(by=['in_buffer', 'in_buffer_offset'], ignore_index=True)\n",
    "    output = pd.DataFrame(index=sorted_tags.index, columns=OUTPUT_COLUMNS, data='')\n",
    "    for idx in sorted_tags.index:\n",
    "        if sorted_tags.loc[idx, 'selector_mask_nzone'] in selectors.index:\n",
    "            selector_mask_nzone = selectors.loc[sorted_tags.loc[idx, 'selector_mask_nzone'], 'mask_value']\n",
    "        else:\n",
    "            selector_mask_nzone = sorted_tags.loc[idx, 'selector_mask_nzone']\n",
    "        next_line = {\n",
    "            'tag_full_name': sorted_tags.loc[idx, 'tag_parent']+'.'+sorted_tags.loc[idx, 'tag_name'],\n",
    "            'description': sorted_tags.loc[idx, 'description'],\n",
    "            'data_type': sorted_tags.loc[idx, 'type'].lower(),\n",
    "            'direction': buffers.loc[sorted_tags.loc[idx, 'in_buffer'], 'type'],\n",
    "            'algoblock_type': buffers.loc[sorted_tags.loc[idx, 'in_buffer'], 'function'],\n",
    "            'algoblock_address': buffers.loc[sorted_tags.loc[idx, 'in_buffer'], 'params'],\n",
    "            'algoblock_offset': sorted_tags.loc[idx, 'in_buffer_offset'],\n",
    "            'selector_mask_nzone': selector_mask_nzone,\n",
    "        }\n",
    "        output.loc[idx] = next_line\n",
    "    # and now for writing tags\n",
    "    buffer_index = ', '.join([f'\"{t}\"' for t in buffers.index])\n",
    "    sorted_tags = tags.query(f'out_buffer in ({buffer_index})')\n",
    "#     sorted_tags['out_buffer_offset'] = pd.to_numeric(sorted_tags['out_buffer_offset'])\n",
    "    sorted_tags = sorted_tags.sort_values(by=['out_buffer', 'out_buffer_offset'], ignore_index=True)\n",
    "    output2 = pd.DataFrame(index=sorted_tags.index, columns=OUTPUT_COLUMNS, data='')\n",
    "    for idx in sorted_tags.index:\n",
    "        next_line = {\n",
    "            'tag_full_name': sorted_tags.loc[idx, 'tag_parent']+'.'+sorted_tags.loc[idx, 'tag_name'],\n",
    "            'description': sorted_tags.loc[idx, 'description'],\n",
    "            'data_type': sorted_tags.loc[idx, 'type'].lower(),\n",
    "            'direction': buffers.loc[sorted_tags.loc[idx, 'out_buffer'], 'type'],\n",
    "            'algoblock_type': buffers.loc[sorted_tags.loc[idx, 'out_buffer'], 'function'],\n",
    "            'algoblock_address': buffers.loc[sorted_tags.loc[idx, 'out_buffer'], 'params'],\n",
    "            'algoblock_offset': sorted_tags.loc[idx, 'out_buffer_offset'],\n",
    "            'selector_mask_nzone': sorted_tags.loc[idx, 'selector_mask_nzone'],\n",
    "        }\n",
    "        output2.loc[idx] = next_line\n",
    "    # and concat\n",
    "    output = pd.concat([output, output2], ignore_index=True)\n",
    "    # readability\n",
    "    output['data_type'].replace({'single': 'FLOAT (4 bytes)',\n",
    "                                 'byte': 'INT (1 byte)',\n",
    "                                 'integer': 'INT (2 bytes)',\n",
    "                                 'long': 'INT (4 bytes)',\n",
    "                                 'boolean': 'BOOL (1 bit)',\n",
    "                                }, inplace=True)\n",
    "    output['direction'].replace({'R': 'Read', 'W': 'Write'}, inplace=True)\n",
    "    output['algoblock_type'].replace({'&h40': 'ИНР', '&h1A': 'ДКМ'}, inplace=True)\n",
    "    # and add modbus addresses\n",
    "    output['modbus_address'] = -1\n",
    "    for idx in output.index:\n",
    "        output.loc[idx, 'modbus_address'] = compute_modbus_address(\n",
    "            output.loc[idx, 'algoblock_type'], \n",
    "            output.loc[idx, 'algoblock_address'], \n",
    "            output.loc[idx, 'algoblock_offset']\n",
    "        )\n",
    "    return output"
   ]
  },
  {
   "cell_type": "markdown",
   "id": "65fb4df3",
   "metadata": {},
   "source": [
    "## Main parse"
   ]
  },
  {
   "cell_type": "code",
   "execution_count": 13,
   "id": "fa3cbbbf",
   "metadata": {},
   "outputs": [],
   "source": [
    "def parse_radar_ini(path: str) -> pd.DataFrame:\n",
    "    config = configparser.ConfigParser(\n",
    "        comment_prefixes=r'//',\n",
    "        interpolation=None,\n",
    "    )\n",
    "    config.read(path)\n",
    "    for sct in ('NetBios', 'Selectors', 'Tags'):\n",
    "        if not config.has_section(sct):\n",
    "            print(f'Section {sct} is missing in {path}')\n",
    "            return pd.DataFrame()\n",
    "    buffers = parse_section_netbios(config['NetBios'])\n",
    "    selectors = parse_section_selectors(config['Selectors'])\n",
    "    tags = parse_section_tags(config['Tags'])\n",
    "    # only tags with used input buffers\n",
    "    buffer_index = ', '.join([f'\"{t}\"' for t in buffers.index])\n",
    "    tags.query(f'in_buffer in ({buffer_index}) or out_buffer in ({buffer_index})', inplace=True)\n",
    "    output = gen_output_table(buffers, selectors, tags)\n",
    "#     display(buffers)\n",
    "#     display(selectors)\n",
    "#     display(tags)\n",
    "#     display(output)\n",
    "#     return tags\n",
    "    return output"
   ]
  },
  {
   "cell_type": "markdown",
   "id": "a846f07f",
   "metadata": {},
   "source": [
    "# Main"
   ]
  },
  {
   "cell_type": "code",
   "execution_count": 14,
   "id": "c99c4cdf",
   "metadata": {},
   "outputs": [],
   "source": [
    "INP_DIR = 'input'\n",
    "OUT_DIR = 'output'"
   ]
  },
  {
   "cell_type": "code",
   "execution_count": 15,
   "id": "74e36a26",
   "metadata": {
    "scrolled": false
   },
   "outputs": [
    {
     "name": "stdout",
     "output_type": "stream",
     "text": [
      "001_KO1_8_Контактный осветлитель 1.ini\n",
      "002_KO9_16_Контактный осветлитель 2.ini\n",
      "003_Wash_Промывная станция 2.ini\n",
      "004_Mkf_Микрофильтры.ini\n",
      "005_1p_НС 1 подъем шахта 1.ini\n",
      "006_1p2_НС 1 подъем шахта 2.ini\n",
      "007_2p_НС 2 Подъем.ini\n",
      "008_Filters_Скорые фильтры.ini\n",
      "009_Wash_old_Промывная станция 1.ini\n",
      "010_KR500_1_Качество воды.ini\n",
      "011_rashod_ПТК учета.ini\n",
      "012_sulfat_Сульфат аммония.ini\n",
      "018_cmo_ЦМО.ini\n",
      "019_sgus_Сгуститель.ini\n",
      "020_usr_Усреднитель.ini\n",
      "021_spiv_СПИВ.ini\n",
      "023_P3_1_НС 3 Подъем 1.ini\n",
      "024_NUR_НС НЮР.ini\n",
      "025_P3_2_НС 3 Подъем 2.ini\n",
      "026_SZR_ПНС СЗР.ini\n",
      "027_NLAP_ПНС Лапсары.ini\n",
      "028_9ptl_ПНС 9-й Пятилетки.ini\n",
      "029_mkBG_ПНМ мкр Богдановка.ini\n",
      "030_Sosn_СтД Сосновка.ini\n",
      "031_okt_СтД Октябрьский.ini\n",
      "032_sev_СтД Северный 1.ini\n",
      "033_tal_СтД Сосновка Тальн.ini\n",
      "034_skv2_СтД Северный 2.ini\n",
      "035_ctp1_ЦТП1.ini\n",
      "036_ctp7_ЦТП7.ini\n",
      "037_ctp6_ЦТП6.ini\n",
      "038_ctpM38_ЦТП Московский 38Б.ini\n"
     ]
    }
   ],
   "source": [
    "# scan input directory for ini-files\n",
    "with os.scandir(INP_DIR) as it:\n",
    "    for entry in it:\n",
    "        if entry.is_file() and entry.name.endswith('.ini'):\n",
    "            print(entry.name)\n",
    "            out = parse_radar_ini(entry.path)\n",
    "#             break\n",
    "            out_name = os.path.join(OUT_DIR, os.path.splitext(entry.name)[0]+'.csv')\n",
    "            out.to_csv(out_name, sep=';', index=False, encoding='cp1251')\n",
    "#             break"
   ]
  }
 ],
 "metadata": {
  "kernelspec": {
   "display_name": "Python 3 (ipykernel)",
   "language": "python",
   "name": "python3"
  },
  "language_info": {
   "codemirror_mode": {
    "name": "ipython",
    "version": 3
   },
   "file_extension": ".py",
   "mimetype": "text/x-python",
   "name": "python",
   "nbconvert_exporter": "python",
   "pygments_lexer": "ipython3",
   "version": "3.9.13"
  }
 },
 "nbformat": 4,
 "nbformat_minor": 5
}
